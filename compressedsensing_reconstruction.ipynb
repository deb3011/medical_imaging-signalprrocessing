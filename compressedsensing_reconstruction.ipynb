{
 "cells": [
  {
   "cell_type": "code",
   "execution_count": 1,
   "id": "f252883e",
   "metadata": {},
   "outputs": [
    {
     "name": "stdout",
     "output_type": "stream",
     "text": [
      "\u001b[H\u001b[2J"
     ]
    },
    {
     "data": {
      "text/plain": [
       "0"
      ]
     },
     "execution_count": 1,
     "metadata": {},
     "output_type": "execute_result"
    }
   ],
   "source": [
    "import os\n",
    "import numpy as np\n",
    "import scipy.io as sio\n",
    "from scipy.linalg import pinv\n",
    "import matplotlib.pyplot as plt\n",
    "from scipy.sparse import csr_matrix\n",
    "from scipy.fftpack import dct\n",
    "from tqdm import tqdm\n",
    "from sklearn.linear_model import orthogonal_mp_gram\n",
    "clear = lambda: os.system('cls' if os.name=='nt' else 'clear')\n",
    "clear()"
   ]
  },
  {
   "cell_type": "code",
   "execution_count": 2,
   "id": "1ae6fc8a",
   "metadata": {},
   "outputs": [],
   "source": [
    "n = 192  # Length of signal\n",
    "M=10000\n",
    "cnt0 = cnt1 = cnt2 = cnt3 = cnt4 = cnt5 = cnt6 = cnt7 = cnt8 = 0 # Initialize counters"
   ]
  },
  {
   "cell_type": "code",
   "execution_count": 3,
   "id": "2fcba1c8",
   "metadata": {},
   "outputs": [],
   "source": [
    "\"\"\" \n",
    "Load data from file\n",
    "Extract data1 from data0\n",
    "Extend data1 with additional values\n",
    "Initializing TrainMat\n",
    "\"\"\"\n",
    "\n",
    "\n",
    "data0 = sio.loadmat('/home/debangshu/Downloads/Rec_ECG_MD_SD/Rec_ECG_MD_SD/traindataecg.mat')\n",
    "# print(data0)\n",
    "data1 = data0['A'][0, 0:9218*192]\n",
    "data1 = np.concatenate((data1, data0['A'][0, 401: (9215*192) + 400]))\n",
    "\n",
    "TrainMat0 = np.zeros((n, M))\n",
    "TrainMat1 = np.zeros((n, M))\n",
    "TrainMat2 = np.zeros((n, M))\n",
    "TrainMat3 = np.zeros((n, M))\n",
    "TrainMat4 = np.zeros((n, M))\n",
    "TrainMat5 = np.zeros((n, M))\n",
    "TrainMat6 = np.zeros((n, M))\n",
    "TrainMat7 = np.zeros((n, M))\n",
    "TrainMat8 = np.zeros((n, M))"
   ]
  },
  {
   "cell_type": "code",
   "execution_count": 4,
   "id": "35e44e98",
   "metadata": {},
   "outputs": [],
   "source": [
    "\"\"\"\"\"\"\n",
    "\n",
    "for ii in range(0, 10000):\n",
    "    train = data1[ii * n: (ii +1)* n] \n",
    "    mean_data = np.mean(np.abs(train))\n",
    "    diff = np.abs(np.abs(train) - mean_data)\n",
    "    Dif_th = diff > 300\n",
    "\n",
    "    if np.sum(Dif_th) == 0:\n",
    "        cnt0 += 1\n",
    "        TrainMat0[:, cnt0 - 1] = train\n",
    "    else:\n",
    "        if np.sum(Dif_th[0:24]) > 0:\n",
    "            cnt1 += 1\n",
    "            TrainMat1[:, cnt1 - 1] = train\n",
    "        elif np.sum(Dif_th[24:48]) > 0:\n",
    "            cnt2 += 1\n",
    "            TrainMat2[:, cnt2 - 1] = train\n",
    "        elif np.sum(Dif_th[48:72]) > 0:\n",
    "            cnt3 += 1\n",
    "            TrainMat3[:, cnt3 - 1] = train\n",
    "        elif np.sum(Dif_th[72:96]) > 0:\n",
    "            cnt4 += 1\n",
    "            TrainMat4[:, cnt4 - 1] = train\n",
    "        elif np.sum(Dif_th[96:120]) > 0:\n",
    "            cnt5 += 1\n",
    "            TrainMat5[:, cnt5 - 1] = train\n",
    "        elif np.sum(Dif_th[120:144]) > 0:\n",
    "            cnt6 += 1\n",
    "            TrainMat6[:, cnt6 - 1] = train\n",
    "        elif np.sum(Dif_th[144:168]) > 0:\n",
    "            cnt7 += 1\n",
    "            TrainMat7[:, cnt7 - 1] = train\n",
    "        elif np.sum(Dif_th[168:192]) > 0:\n",
    "            cnt8 += 1\n",
    "            TrainMat8[:, cnt8 - 1] = train"
   ]
  },
  {
   "cell_type": "code",
   "execution_count": 5,
   "id": "9359b38d",
   "metadata": {},
   "outputs": [],
   "source": [
    "\"\"\"Assigning all the values in TrainMat[i] to 0.001\"\"\"\n",
    "\n",
    "TrainMat0[:, :400] = np.where(TrainMat0[:, :400] == 0, 1, TrainMat0[:, :400])\n",
    "TrainMat1[:, :400] = np.where(TrainMat1[:, :400] == 0, 1, TrainMat1[:, :400])\n",
    "TrainMat2[:, :400] = np.where(TrainMat2[:, :400] == 0, 1, TrainMat2[:, :400])\n",
    "TrainMat3[:, :400] = np.where(TrainMat3[:, :400] == 0, 1, TrainMat3[:, :400])\n",
    "TrainMat4[:, :400] = np.where(TrainMat4[:, :400] == 0, 1, TrainMat4[:, :400])\n",
    "TrainMat5[:, :400] = np.where(TrainMat5[:, :400] == 0, 1, TrainMat5[:, :400])\n",
    "TrainMat6[:, :400] = np.where(TrainMat6[:, :400] == 0, 1, TrainMat6[:, :400])\n",
    "TrainMat7[:, :400] = np.where(TrainMat7[:, :400] == 0, 1, TrainMat7[:, :400])\n",
    "TrainMat8[:, :400] = np.where(TrainMat8[:, :400] == 0, 1, TrainMat8[:, :400])"
   ]
  },
  {
   "cell_type": "code",
   "execution_count": null,
   "id": "bff229c9",
   "metadata": {},
   "outputs": [],
   "source": []
  },
  {
   "cell_type": "code",
   "execution_count": 6,
   "id": "e230be2b",
   "metadata": {},
   "outputs": [],
   "source": [
    "def OMP(D, X, L):\n",
    "    \"\"\"\n",
    "    Sparse coding of a group of signals based on a given dictionary and specified number of atoms to use.\n",
    "\n",
    "    Parameters:\n",
    "        D (numpy.ndarray): Dictionary matrix with shape (n, K). Columns must be normalized.\n",
    "        X (numpy.ndarray): The signals to represent with shape (n, P).\n",
    "        L (int): The maximum number of coefficients for each signal.\n",
    "\n",
    "    Returns:\n",
    "        A (scipy.sparse.csc_matrix): Sparse coefficient matrix with shape (K, P).\n",
    "    \"\"\"\n",
    "    n, P = X.shape\n",
    "    n, K = D.shape\n",
    "    A = np.zeros((K, P))\n",
    "\n",
    "    for k in range(P):\n",
    "        a = np.zeros(L)\n",
    "        \n",
    "        x = X[:, k]\n",
    "        residual = x\n",
    "        indx = np.zeros(L, dtype=int)\n",
    "\n",
    "        for j in range(L):\n",
    "            proj = D.T @ residual\n",
    "            pos = np.argmax(np.abs(proj))\n",
    "            indx[j] = pos\n",
    "            selected_atoms = D[:, indx[:j + 1]]\n",
    "            a[:j + 1] = np.linalg.lstsq(selected_atoms, x, rcond=None)[0]\n",
    "            residual = x - selected_atoms @ a[:j + 1]\n",
    "            if np.sum(residual ** 2) < 1e-6:\n",
    "                break\n",
    "\n",
    "        temp = np.zeros(K)\n",
    "        temp[indx[:j + 1]] = a[:j + 1]\n",
    "        A[:, k] = temp\n",
    "\n",
    "    return csc_matrix(A)"
   ]
  },
  {
   "cell_type": "code",
   "execution_count": 7,
   "id": "20863e11",
   "metadata": {},
   "outputs": [],
   "source": [
    "param = {}\n",
    "param['K'] = 2 * n  # Number of atoms in dictionary\n",
    "param['L'] = 1\n",
    "param['numIteration'] = 10\n",
    "param['errorFlag'] = 0\n",
    "param['preserveDCAtom'] = 0\n",
    "param['displayProgress'] = 0\n",
    "param['InitializationMethod'] = 'DataElements'"
   ]
  },
  {
   "cell_type": "code",
   "execution_count": 8,
   "id": "d254876e",
   "metadata": {},
   "outputs": [],
   "source": [
    "dic = dct(np.eye(2 * n))\n",
    "temp = np.random.permutation(2 * n)\n",
    "\n",
    "Ovr_C_dic = dic[0:n, :]\n",
    "param['TrueDictionary'] = Ovr_C_dic\n",
    "iniMat = np.random.randn(n, param['K'])\n",
    "\n",
    "for i in range(param['K']):\n",
    "    iniMat[:, i] = iniMat[:, i] / np.linalg.norm(iniMat[:, i])  # Normalizing columns of the matrix\n",
    "\n",
    "param['initialDictionary'] = iniMat\n",
    "\n",
    "train = data0['A'][0, 0:600 * n]\n",
    "l = 600  # Number of trained signals\n",
    "\n",
    "TrainMat = np.zeros((n,l))   #initialising TrainMat\n",
    "for i in range(0, l):\n",
    "    TrainMat[:, i] = train[i  * n:(i+1) * n]\n",
    "# print(TrainMat)  "
   ]
  },
  {
   "cell_type": "code",
   "execution_count": 9,
   "id": "b01b0635",
   "metadata": {},
   "outputs": [],
   "source": [
    "def ksvd(Data, num_atoms, sparsity, initial_D=None,\n",
    "    maxiter=10, etol=1e-10, approx=False, debug=True):\n",
    "    \"\"\"\"        \n",
    "        Data:       rows hold training data for dictionary fitting\n",
    "        num_atoms:  number of dictionary atoms\n",
    "        sparsity:   max sparsity of signals. Reduces to K-means\n",
    "                    when sparsity=1\n",
    "        initial_D:  if given, an initial dictionary. Otherwise, random\n",
    "                    rows of data are chosen for initial dictionary\n",
    "        maxiter:    maximum number of iterations\n",
    "        err_thresh: stopping criteria; minimum residual\n",
    "        approx:     True if using approximate KSVD update method.\n",
    "                    Code runs faster if True, but results generally\n",
    "                    in higher training error.\n",
    "        \n",
    "        Returns:\n",
    "            D:               learned dictionary\n",
    "            X:               sparse coding of input data\n",
    "            error_norms:     array of training errors for each iteration\n",
    "        Task: find best dictionary D to represent Data Y;\n",
    "              minimize squared norm of Y - DX, constraining\n",
    "              X to sparse codings.\n",
    "    \"\"\"\n",
    "    # **implemented using column major order**\n",
    "#     Data = Data.T\n",
    "\n",
    "    assert Data.shape[1] > num_atoms # enforce this for now\n",
    "\n",
    "    # intialization\n",
    "    if initial_D is not None: \n",
    "        D = initial_D / np.linalg.norm(initial_D, axis=0)\n",
    "        Y = Data\n",
    "        X = np.zeros([num_atoms, Data.shape[1]])\n",
    "    else:\n",
    "        # randomly select initial dictionary from data\n",
    "        idx_set = range(Data.shape[1])\n",
    "        idxs = np.random.choice(idx_set, num_atoms, replace=False)    \n",
    "        Y = Data[:,np.delete(idx_set, idxs)]\n",
    "        X = np.zeros([num_atoms, Data.shape[1] - num_atoms])\n",
    "        D = Data[:,idxs] / np.linalg.norm(Data[:,idxs], axis=0)\n",
    "\n",
    "    # repeat until convergence or stopping criteria\n",
    "    error_norms = []\n",
    "    \n",
    "    iterator = tqdm(range(1,maxiter+1)) if debug else range(1,maxiter+1)\n",
    "    for iteration in iterator:\n",
    "        # sparse coding stage: estimate columns of X\n",
    "        gram = (D.T).dot(D)\n",
    "        Dy = (D.T).dot(Y)\n",
    "        X = orthogonal_mp_gram(gram, Dy, n_nonzero_coefs=sparsity)\n",
    "        # codebook update stage\n",
    "        for j in range(D.shape[1]):\n",
    "            # index set of nonzero components\n",
    "            index_set = np.nonzero(X[j,:])[0]\n",
    "            if len(index_set) == 0:\n",
    "                # for now, replace with some white noise\n",
    "                if not approx:\n",
    "                    D[:,j] = np.random.randn(*D[:,j].shape)\n",
    "                    D[:,j] = D[:,j] / np.linalg.norm(D[:,j])\n",
    "                continue\n",
    "            # approximate K-SVD update\n",
    "            if approx:\n",
    "                E = Y[:,index_set] - D.dot(X[:,index_set])\n",
    "                D[:,j] = E.dot(X[j,index_set])     # update D\n",
    "                D[:,j] /= np.linalg.norm(D[:,j])\n",
    "                X[j,index_set] = (E.T).dot(D[:,j]) # update X\n",
    "            else:\n",
    "                # error matrix E\n",
    "                E_idx = np.delete(range(D.shape[1]), j, 0)\n",
    "                E = Y - np.dot(D[:,E_idx], X[E_idx,:])\n",
    "                U,S,VT = np.linalg.svd(E[:,index_set])\n",
    "                # update jth column of D\n",
    "                D[:,j] = U[:,0]\n",
    "                # update sparse elements in jth row of X    \n",
    "                X[j,:] = np.array([\n",
    "                    S[0]*VT[ 0,np.argwhere(index_set==n)[0][0] ]\n",
    "                    if n in index_set else 0\n",
    "                    for n in range(X.shape[1])])\n",
    "        # stopping condition: check error        \n",
    "        err = np.linalg.norm(Y-D.dot(X),'fro')\n",
    "        error_norms.append(err)\n",
    "        if err < etol:\n",
    "            break\n",
    "    return D,X, np.array(error_norms)"
   ]
  },
  {
   "cell_type": "code",
   "execution_count": 10,
   "id": "0baf88cc",
   "metadata": {},
   "outputs": [],
   "source": [
    "# \"\"\"Combined Dictionary function will train all the dictionary and save it as .npy in local\"\"\"\n",
    "\n",
    "# def combined_dic():\n",
    "#     DicKSVD,_,_ = ksvd(TrainMat, 384, 1, maxiter=10)\n",
    "#     DicKSVD0,_,_ = ksvd(TrainMat0[:,:400], 384, 1, maxiter=10)\n",
    "#     DicKSVD1,_,_ = ksvd(TrainMat1[:,:400], 384, 1, maxiter=10)\n",
    "#     DicKSVD2,_,_ = ksvd(TrainMat2[:,:400], 384, 1, maxiter=10)\n",
    "#     DicKSVD3,_,_ = ksvd(TrainMat3[:,:400], 384, 1, maxiter=10)\n",
    "#     DicKSVD4,_,_ = ksvd(TrainMat4[:,:400], 384, 1, maxiter=10)\n",
    "#     DicKSVD5,_,_ = ksvd(TrainMat5[:,:400], 384, 1, maxiter=10)\n",
    "#     DicKSVD6,_,_ = ksvd(TrainMat6[:,:400], 384, 1, maxiter=10)\n",
    "#     DicKSVD7,_,_ = ksvd(TrainMat7[:,:400], 384, 1, maxiter=10)\n",
    "#     DicKSVD8,_,_ = ksvd(TrainMat8[:,:400], 384, 1, maxiter=10)\n",
    "#     ksvd_all = {\n",
    "#     'DicKSVD': DicKSVD,\n",
    "#     'DicKSVD0': DicKSVD0,\n",
    "#     'DicKSVD1': DicKSVD1,\n",
    "#     'DicKSVD2': DicKSVD2,\n",
    "#     'DicKSVD3': DicKSVD3,\n",
    "#     'DicKSVD4': DicKSVD4,\n",
    "#     'DicKSVD5': DicKSVD5,\n",
    "#     'DicKSVD6': DicKSVD6,\n",
    "#     'DicKSVD7': DicKSVD7,\n",
    "#     'DicKSVD8': DicKSVD8,\n",
    "#     }\n",
    "#     for name, array in ksvd_all.items():\n",
    "#         np.save(name + '.npy', array)\n",
    "#     return DicKSVD, DicKSVD0, DicKSVD1, DicKSVD2, DicKSVD3, DicKSVD4, DicKSVD5, DicKSVD6, DicKSVD7, DicKSVD8\n"
   ]
  },
  {
   "cell_type": "code",
   "execution_count": 11,
   "id": "5f49567f",
   "metadata": {},
   "outputs": [],
   "source": [
    "# runall=combined_dic()"
   ]
  },
  {
   "cell_type": "code",
   "execution_count": 12,
   "id": "c595ce5f",
   "metadata": {
    "scrolled": true
   },
   "outputs": [
    {
     "name": "stdout",
     "output_type": "stream",
     "text": [
      "Running the initial dictionary\n"
     ]
    },
    {
     "name": "stderr",
     "output_type": "stream",
     "text": [
      "100%|███████████████████████████████████████| 10/10 [00:08<00:00,  1.24it/s]\n"
     ]
    }
   ],
   "source": [
    "print(\"Running the initial dictionary\")\n",
    "DicKSVD,_,e = ksvd(TrainMat, 384, 1, maxiter=10)"
   ]
  },
  {
   "cell_type": "code",
   "execution_count": 21,
   "id": "be982f96",
   "metadata": {},
   "outputs": [
    {
     "name": "stderr",
     "output_type": "stream",
     "text": [
      "100%|███████████████████████████████████████| 10/10 [00:00<00:00, 19.59it/s]\n"
     ]
    }
   ],
   "source": [
    "DicKSVD0,_,_ = ksvd(TrainMat0[:,:400], 384, 1, maxiter=10)"
   ]
  },
  {
   "cell_type": "code",
   "execution_count": 23,
   "id": "8ae40c23",
   "metadata": {},
   "outputs": [
    {
     "name": "stderr",
     "output_type": "stream",
     "text": [
      "100%|███████████████████████████████████████| 10/10 [00:00<00:00, 17.74it/s]\n"
     ]
    }
   ],
   "source": [
    "DicKSVD1,_,_ = ksvd(TrainMat1[:,:400], 384, 1, maxiter=10)"
   ]
  },
  {
   "cell_type": "code",
   "execution_count": 25,
   "id": "0bc7bd74",
   "metadata": {},
   "outputs": [
    {
     "name": "stderr",
     "output_type": "stream",
     "text": [
      "100%|███████████████████████████████████████| 10/10 [00:00<00:00, 18.14it/s]\n"
     ]
    }
   ],
   "source": [
    "DicKSVD2,_,_ = ksvd(TrainMat2[:,:400], 384, 1, maxiter=10)"
   ]
  },
  {
   "cell_type": "code",
   "execution_count": 26,
   "id": "0ae7cbf6",
   "metadata": {},
   "outputs": [
    {
     "name": "stderr",
     "output_type": "stream",
     "text": [
      "100%|███████████████████████████████████████| 10/10 [00:00<00:00, 21.58it/s]\n"
     ]
    }
   ],
   "source": [
    "DicKSVD3,_,_ = ksvd(TrainMat3[:,:400], 384, 1, maxiter=10)"
   ]
  },
  {
   "cell_type": "code",
   "execution_count": 29,
   "id": "6d073461",
   "metadata": {},
   "outputs": [
    {
     "name": "stderr",
     "output_type": "stream",
     "text": [
      "100%|███████████████████████████████████████| 10/10 [00:00<00:00, 22.64it/s]\n"
     ]
    }
   ],
   "source": [
    "DicKSVD4,_,_ = ksvd(TrainMat4[:,:400], 384, 1, maxiter=10)"
   ]
  },
  {
   "cell_type": "code",
   "execution_count": 31,
   "id": "1da988d4",
   "metadata": {
    "scrolled": true
   },
   "outputs": [
    {
     "name": "stderr",
     "output_type": "stream",
     "text": [
      "100%|███████████████████████████████████████| 10/10 [00:00<00:00, 24.02it/s]\n"
     ]
    }
   ],
   "source": [
    "DicKSVD5,_,_ = ksvd(TrainMat5[:,:400], 384, 1, maxiter=10)"
   ]
  },
  {
   "cell_type": "code",
   "execution_count": 34,
   "id": "e0b3b5d3",
   "metadata": {},
   "outputs": [
    {
     "name": "stderr",
     "output_type": "stream",
     "text": [
      "100%|███████████████████████████████████████| 10/10 [00:00<00:00, 19.42it/s]\n"
     ]
    }
   ],
   "source": [
    "DicKSVD6,_,_ = ksvd(TrainMat6[:,:400], 384, 1, maxiter=10)"
   ]
  },
  {
   "cell_type": "code",
   "execution_count": 43,
   "id": "26dd79ce",
   "metadata": {},
   "outputs": [
    {
     "name": "stderr",
     "output_type": "stream",
     "text": [
      "100%|███████████████████████████████████████| 10/10 [00:00<00:00, 19.20it/s]\n"
     ]
    }
   ],
   "source": [
    "DicKSVD7,_,_ = ksvd(TrainMat7[:,:400], 384, 1, maxiter=10)"
   ]
  },
  {
   "cell_type": "code",
   "execution_count": 48,
   "id": "3deff592",
   "metadata": {},
   "outputs": [
    {
     "name": "stderr",
     "output_type": "stream",
     "text": [
      "100%|███████████████████████████████████████| 10/10 [00:00<00:00, 20.41it/s]\n"
     ]
    }
   ],
   "source": [
    "DicKSVD8,_,_ = ksvd(TrainMat8[:,:400], 384, 1, maxiter=10)"
   ]
  },
  {
   "cell_type": "code",
   "execution_count": 49,
   "id": "2e02e34e",
   "metadata": {},
   "outputs": [],
   "source": [
    "\n",
    "# target_files = ['DicKSVD.npy','DicKSVD0.npy','DicKSVD1.npy','DicKSVD2.npy','DicKSVD3.npy',\n",
    "#                'DicKSVD4.npy','DicKSVD5.npy','DicKSVD6.npy','DicKSVD7.npy','DicKSVD8.npy',]\n",
    "# current_directory = os.getcwd()\n",
    "\n",
    "# for target_file in target_files:\n",
    "#     npy_file_present = os.path.exists(os.path.join(current_directory, target_file))\n",
    "    \n",
    "#     if npy_file_present:\n",
    "#         print(f\"{target_file} is present in the directory.\")\n",
    "#         if target_file == 'DicKSVD.npy':\n",
    "#             DicKSVD = np.load(\"DicKSVD.npy\")\n",
    "#         elif target_file == 'DicKSVD0.npy':\n",
    "#             DicKSVD0 = np.load(\"DicKSVD0.npy\")\n",
    "#         elif target_file == 'DicKSVD1.npy':\n",
    "#             DicKSVD1 = np.load(\"DicKSVD1.npy\")\n",
    "#         elif target_file == 'DicKSVD2.npy':\n",
    "#             DicKSVD2 = np.load(\"DicKSVD2.npy\")\n",
    "#         elif target_file == 'DicKSVD3.npy':\n",
    "#             DicKSVD3 = np.load(\"DicKSVD3.npy\")\n",
    "#         elif target_file == 'DicKSVD4.npy':\n",
    "#             DicKSVD4 = np.load(\"DicKSVD4.npy\")\n",
    "#         elif target_file == 'DicKSVD5.npy':\n",
    "#             DicKSVD5 = np.load(\"DicKSVD5.npy\")\n",
    "#         elif target_file == 'DicKSVD6.npy':\n",
    "#             DicKSVD6 = np.load(\"DicKSVD6.npy\")\n",
    "#         elif target_file == 'DicKSVD7.npy':\n",
    "#             DicKSVD7 = np.load(\"DicKSVD7.npy\")\n",
    "#         elif target_file == 'DicKSVD8.npy':\n",
    "#             DicKSVD8 = np.load(\"DicKSVD8.npy\")\n",
    "            \n",
    "            \n",
    "#     else:\n",
    "#         print(f\"{target_file} is not present in the directory.\")\n",
    "#         if target_file == 'DicKSVD.npy':\n",
    "#             DicKSVD,_,_ = ksvd(TrainMat, 384, 1, maxiter=10)\n",
    "#             np.save('DicKSVD'+'.npy',DicKSVD)\n",
    "#             DicKSVD = np.load(\"DicKSVD.npy\")\n",
    "\n",
    "#         elif target_file == 'DicKSVD0.npy':\n",
    "#             DicKSVD0,_,_ = ksvd(TrainMat0, 384, 1, maxiter=10)\n",
    "#             np.save('DicKSVD'+'.npy',DicKSVD)\n",
    "#             DicKSVD = np.load(\"DicKSVD.npy\")\n",
    "#         elif target_file == 'DicKSVD1.npy':\n",
    "#             DicKSVD1,_,_ = ksvd(TrainMat1, 384, 1, maxiter=10)\n",
    "#             np.save('DicKSVD'+'.npy',DicKSVD)\n",
    "#             DicKSVD = np.load(\"DicKSVD.npy\")\n",
    "#         elif target_file == 'DicKSVD2.npy':\n",
    "#             DicKSVD2,_,_ = ksvd(TrainMat2, 384, 1, maxiter=10)\n",
    "#             np.save('DicKSVD'+'.npy',DicKSVD)\n",
    "#             DicKSVD = np.load(\"DicKSVD.npy\")\n",
    "#         elif target_file == 'DicKSVD3.npy':\n",
    "#             DicKSVD3,_,_ = ksvd(TrainMat3, 384, 1, maxiter=10)\n",
    "#             np.save('DicKSVD'+'.npy',DicKSVD)\n",
    "#             DicKSVD = np.load(\"DicKSVD.npy\")\n",
    "#         elif target_file == 'DicKSVD4.npy':\n",
    "#             DicKSVD4,_,_ = ksvd(TrainMat4, 384, 1, maxiter=10)\n",
    "#             np.save('DicKSVD'+'.npy',DicKSVD)\n",
    "#             DicKSVD = np.load(\"DicKSVD.npy\")\n",
    "#         elif target_file == 'DicKSVD5.npy':\n",
    "#             DicKSVD5,_,_ = ksvd(TrainMat5, 384, 1, maxiter=10)\n",
    "#             np.save('DicKSVD'+'.npy',DicKSVD)\n",
    "#             DicKSVD = np.load(\"DicKSVD.npy\")\n",
    "#         elif target_file == 'DicKSVD6.npy':\n",
    "#             DicKSVD6,_,_ = ksvd(TrainMat6, 384, 1, maxiter=10)\n",
    "#             np.save('DicKSVD'+'.npy',DicKSVD)\n",
    "#             DicKSVD = np.load(\"DicKSVD.npy\")\n",
    "#         elif target_file == 'DicKSVD7.npy':\n",
    "#             DicKSVD7,_,_ = ksvd(TrainMat7, 384, 1, maxiter=10)\n",
    "#             np.save('DicKSVD'+'.npy',DicKSVD)\n",
    "#             DicKSVD = np.load(\"DicKSVD.npy\")\n",
    "#         elif target_file == 'DicKSVD8.npy':\n",
    "#             DicKSVD8,_,_ = ksvd(TrainMat8, 384, 1, maxiter=10)\n",
    "#             np.save('DicKSVD'+'.npy',DicKSVD)\n",
    "#             DicKSVD = np.load(\"DicKSVD.npy\")"
   ]
  },
  {
   "cell_type": "code",
   "execution_count": 51,
   "id": "398bcf91",
   "metadata": {},
   "outputs": [],
   "source": [
    "# Load data\n",
    "data0 = sio.loadmat('/home/debangshu/Downloads/Rec_ECG_MD_SD/Rec_ECG_MD_SD/1.mat') # contains val: [2x21600 double]\n",
    "temp= data0['s']\n",
    "\n",
    "train_data = temp[1,:];\n",
    "# import pandas as pd \n",
    "# data = pd.read_csv(\"/home/debangshu/Downloads/Dataset_1.csv\")\n",
    "# train_data = data[\"ECG\"]\n",
    "N = 192\n",
    "k = 64      # sparsity\n",
    "M = 500\n",
    "\n",
    "Phi = (1/np.sqrt(M))*np.random.randn(M, N)\n",
    "Y = np.empty((10*M, 1))\n",
    "for ii in range(10):\n",
    "    train = train_data[(ii*N):(ii+1)*N]\n",
    "    x = train.T\n",
    "    \n",
    "    y1 = Phi @ x\n",
    "    \n",
    "    Y[ii*M:(ii+1)*M] = y1.reshape((M,1))\n",
    "    \n",
    "    \n",
    "def OMP(D, X, L):\n",
    "    \"\"\"\n",
    "    Sparse coding of a group of signals based on a given dictionary and specified\n",
    "    number of atoms to use.\n",
    "\n",
    "    Arguments:\n",
    "    D -- the dictionary (its columns MUST be normalized)\n",
    "    X -- the signals to represent\n",
    "    L -- the max. number of coefficients for each signal\n",
    "\n",
    "    Returns:\n",
    "    A -- sparse coefficient matrix\n",
    "    \"\"\"\n",
    "\n",
    "    P, n = X.shape\n",
    "    n, K = D.shape\n",
    "    A = np.zeros((K, P))\n",
    "\n",
    "    for kk in range(P):\n",
    "        a = np.array([])\n",
    "        x = X[ kk, :]\n",
    "        residual = x\n",
    "        indx = np.zeros(L, dtype=int)\n",
    "        for j in range(L):\n",
    "            proj = np.dot(D.T, residual)\n",
    "            pos = np.argmax(np.abs(proj))\n",
    "            indx[j] = pos\n",
    "            a = np.dot(pinv(D[:, indx[:j+1]]), x)\n",
    "            residual = x - np.dot(D[:, indx[:j+1]], a)\n",
    "            if np.sum(residual**2) < 1e-6:\n",
    "                break\n",
    "        temp = np.zeros(K)\n",
    "        temp[indx[:j+1]] = a\n",
    "        A =csr_matrix(temp)\n",
    "    \n",
    "    return A\n",
    "\n",
    "\n",
    "\n",
    "X_Rec=np.zeros((10*N,1))\n",
    "\n",
    "for jj in range(10):\n",
    "    y = Y[(jj)*M : (jj+1)*M].T\n",
    "    \n",
    "    Psi = DicKSVD\n",
    "    AA = Phi @ Psi\n",
    "    x_rec = OMP(AA, y, k)\n",
    "    x_rec = Psi @ x_rec.T\n",
    "    \n",
    "    mean_data = np.mean(np.abs(x_rec))\n",
    "    diff = np.abs(np.abs(x_rec) - mean_data)\n",
    "    Dif_th = diff > 300\n",
    "    \n",
    "    if np.sum(Dif_th) == 0:\n",
    "        Psi = DicKSVD0\n",
    "        AA = Phi @ Psi\n",
    "        x_rec1 = OMP(AA, y, k)\n",
    "        x_final1 = Psi @ x_rec1.T\n",
    "    else:\n",
    "        if np.sum(Dif_th[0:24]) > 0:\n",
    "            Psi = DicKSVD1\n",
    "        elif np.sum(Dif_th[24:48]) > 0:\n",
    "            Psi = DicKSVD2\n",
    "        elif np.sum(Dif_th[48:72]) > 0:\n",
    "            Psi = DicKSVD3\n",
    "        elif np.sum(Dif_th[72:96]) > 0:\n",
    "            Psi = DicKSVD4\n",
    "        elif np.sum(Dif_th[96:120]) > 0:\n",
    "            Psi = DicKSVD5\n",
    "        elif np.sum(Dif_th[120:144]) > 0:\n",
    "            Psi = DicKSVD6\n",
    "        elif np.sum(Dif_th[144:168]) > 0:\n",
    "            Psi = DicKSVD7\n",
    "        elif np.sum(Dif_th[168:192]) > 0:\n",
    "            Psi = DicKSVD8\n",
    "            \n",
    "        AA = Phi @ Psi\n",
    "        x_rec1 = OMP(AA, y, k)\n",
    "        x_final1 = Psi @ x_rec1.T\n",
    "    \n",
    "    X_Rec[jj*N : (jj+1)*N,:] = x_final1\n",
    "    \n",
    "org = train_data[0:10*N]"
   ]
  },
  {
   "cell_type": "code",
   "execution_count": 62,
   "id": "eb9065fa",
   "metadata": {},
   "outputs": [
    {
     "data": {
      "text/plain": [
       "Text(0.5, 1.0, 'Original signal')"
      ]
     },
     "execution_count": 62,
     "metadata": {},
     "output_type": "execute_result"
    },
    {
     "data": {
      "image/png": "[encoded data removed]",
      "text/plain": [
       "<Figure size 700x500 with 1 Axes>"
      ]
     },
     "metadata": {},
     "output_type": "display_data"
    }
   ],
   "source": [
    "plt.figure(figsize=(7,5))\n",
    "plt.plot(org, 'b')\n",
    "plt.title( \"Original signal\")"
   ]
  },
  {
   "cell_type": "code",
   "execution_count": 58,
   "id": "aac9f0b9",
   "metadata": {},
   "outputs": [
    {
     "data": {
      "text/plain": [
       "Text(0.5, 1.0, 'Reconstructed signal')"
      ]
     },
     "execution_count": 58,
     "metadata": {},
     "output_type": "execute_result"
    },
    {
     "data": {
      "image/png": "[encoded data removed]",
      "text/plain": [
       "<Figure size 700x500 with 1 Axes>"
      ]
     },
     "metadata": {},
     "output_type": "display_data"
    }
   ],
   "source": [
    "\n",
    "plt.figure(figsize=(7,5))\n",
    "plt.plot(X_Rec, 'r')\n",
    "plt.title(\"Reconstructed signal\")\n"
   ]
  },
  {
   "cell_type": "code",
   "execution_count": 55,
   "id": "479483b5",
   "metadata": {},
   "outputs": [
    {
     "name": "stdout",
     "output_type": "stream",
     "text": [
      "[-190.  -189.8 -189.  ...  -36.3  -31.8  -26. ]\n",
      "[[-203.79936693]\n",
      " [-193.93313547]\n",
      " [-195.93539366]\n",
      " ...\n",
      " [ -18.13500429]\n",
      " [ -21.82216716]\n",
      " [ -71.35110864]]\n"
     ]
    }
   ],
   "source": [
    "print(org)\n",
    "print(X_Rec)"
   ]
  },
  {
   "cell_type": "code",
   "execution_count": null,
   "id": "d2ae9f02",
   "metadata": {},
   "outputs": [],
   "source": []
  },
  {
   "cell_type": "code",
   "execution_count": null,
   "id": "503c8162",
   "metadata": {},
   "outputs": [],
   "source": []
  },
  {
   "cell_type": "code",
   "execution_count": null,
   "id": "5626740c",
   "metadata": {},
   "outputs": [],
   "source": []
  },
  {
   "cell_type": "code",
   "execution_count": null,
   "id": "4aee3eb6",
   "metadata": {},
   "outputs": [],
   "source": []
  },
  {
   "cell_type": "code",
   "execution_count": null,
   "id": "01883c0b",
   "metadata": {},
   "outputs": [],
   "source": []
  },
  {
   "cell_type": "code",
   "execution_count": null,
   "id": "4a6d680a",
   "metadata": {},
   "outputs": [],
   "source": []
  }
 ],
 "metadata": {
  "kernelspec": {
   "display_name": "Python 3 (ipykernel)",
   "language": "python",
   "name": "python3"
  },
  "language_info": {
   "codemirror_mode": {
    "name": "ipython",
    "version": 3
   },
   "file_extension": ".py",
   "mimetype": "text/x-python",
   "name": "python",
   "nbconvert_exporter": "python",
   "pygments_lexer": "ipython3",
   "version": "3.9.5"
  }
 },
 "nbformat": 4,
 "nbformat_minor": 5
}
